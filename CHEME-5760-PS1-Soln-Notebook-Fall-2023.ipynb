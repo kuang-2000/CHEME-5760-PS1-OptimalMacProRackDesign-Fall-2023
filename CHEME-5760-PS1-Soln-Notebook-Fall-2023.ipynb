{
 "cells": [
  {
   "cell_type": "markdown",
   "metadata": {},
   "source": [
    "## PS1: Optimize the feature set of a rack-mounted M2 MacPro Server\n",
    "The [new MacPro with the M2 Ultra chip has been released](https://www.apple.com/shop/buy-mac/mac-pro/rack#). The MacPro M2 has several configuration options broadly organized into five categories: `{CPU, Memory, Storage, Accessories, Software}` with multiple options per category:\n",
    "* The `CPU` category has `2` options. Only one option can be selected from the `CPU` category\n",
    "* The `Memory` category has `3` options. Only one option can be selected from the `Memory` category.\n",
    "* The `Storage` category has `4` options. Only one option can be selected from the `Storage` category.\n",
    "* The `Accessories` category has `3` options. Only one option can be selected from the `Accessories` category\n",
    "* The `Software` category has `2` options. Neither or both options can be selected from the `Software` category\n",
    "\n",
    "### Problem statement\n",
    "Using a `linear` utility model and budget and feature constraints, compute the optimal set of features for a rack-mounted MacPro M2. This problem will be similar to the examples discussed in the lecture and discussion, except for one crucial element: the decision variables (our choices) will be `binary`, i.e., $x_{i}\\in{0,1}$ where a `0` indicates that we do NOT choose feature $i$. In contrast, a value of `1` indicates that we choose option $i$. \n",
    "\n",
    "Formally, an agent has a set of $n$ configuration options $X = \\left\\{x_{i}\\right\\}_{i=1}^{n}$, a `Linear` utility function, and a total of $I$ units of resource to allocate, e.g., money, and potentially other constraints. An optimal agent maximizes its utility subject to its resource and other constraints:\n",
    "\n",
    "\\begin{eqnarray}\n",
    "\\text{maximize}~\\mathcal{O} &=& \\sum_{i\\in{1,\\dotsc,n}}\\alpha_{i}x_{i} \\\\\n",
    "\\text{subject to}~\\sum_{i\\in{1,\\dotsc,n}}c_{i}x_{i} & = & I\\\\\n",
    "\\text{and}~\\mathbf{C}\\mathbf{x} & \\leq & \\mathbf{b} \\\\\n",
    "\\text{and}~x_{i}&\\in&{0,1}\\qquad{i=1,2,\\dots,n}\n",
    "\\end{eqnarray}\n",
    "\n",
    "The quantity $c_{i}\\geq{0}~\\forall{i}$ denotes the cost of option $i$, $\\alpha_{i}$ denotes user-specified coefficient in the `Linear` utility function, $x_{i}\\in{0,1}$ represents the choice of option $i$, and $\\mathbf{C}\\mathbf{x} \\leq \\mathbf{b}$ represents additional constraints governing the decision.\n",
    "\n",
    "#### List of Tasks\n",
    "* __Task 1__: Specify $\\alpha$- and $c$-vectors for the problem\n",
    "* __Task 2__: Specify the additional constraint matrix $\\mathbf{C}$\n",
    "* __Task 3__: Specify the problem object and solve the problem\n",
    "* __Task 4__: Try at least two different weighting schemes and different budget values, and explore how these design choices influence the optimal configuration (one of these __can__ be the `default` values specified below)."
   ]
  },
  {
   "cell_type": "markdown",
   "metadata": {},
   "source": [
    "### Setup\n",
    "The computations in this problem set rely on [VLDecisionsPackage.jl](https://github.com/varnerlab/VLDecisionsPackage.jl.git) and several external `Julia` packages. To load the required packages and any custom codes the teaching team has developed to work with these packages, we [include](https://docs.julialang.org/en/v1/manual/code-loading/) the `Include.jl` file):"
   ]
  },
  {
   "cell_type": "code",
   "execution_count": 1,
   "metadata": {
    "tags": []
   },
   "outputs": [
    {
     "name": "stderr",
     "output_type": "stream",
     "text": [
      "\u001b[32m\u001b[1m  Activating\u001b[22m\u001b[39m project at `C:\\Users\\Lillian K\\OneDrive\\Documents\\GitHub\\CHEME-5760-PS1-OptimalMacProRackDesign-Fall-2023`\n",
      "\u001b[32m\u001b[1m    Updating\u001b[22m\u001b[39m git-repo `https://github.com/varnerlab/VLDecisionsPackage.jl.git`\n",
      "\u001b[32m\u001b[1m   Installed\u001b[22m\u001b[39m PDMats ─ v0.11.18\n",
      "\u001b[32m\u001b[1mPrecompiling\u001b[22m\u001b[39m project...\n",
      "\u001b[32m  ✓ \u001b[39m\u001b[90mPDMats\u001b[39m\n",
      "\u001b[32m  ✓ \u001b[39m\u001b[90mlibinput_jll\u001b[39m\n",
      "\u001b[32m  ✓ \u001b[39m\u001b[90mGLPK_jll\u001b[39m\n",
      "\u001b[32m  ✓ \u001b[39m\u001b[90mXorg_xcb_util_cursor_jll\u001b[39m\n",
      "\u001b[32m  ✓ \u001b[39m\u001b[90mxkbcommon_jll\u001b[39m\n",
      "\u001b[32m  ✓ \u001b[39m\u001b[90mNLSolversBase\u001b[39m\n",
      "\u001b[32m  ✓ \u001b[39m\u001b[90mVulkan_Loader_jll\u001b[39m\n",
      "\u001b[32m  ✓ \u001b[39m\u001b[90mQt6Base_jll\u001b[39m\n",
      "\u001b[32m  ✓ \u001b[39m\u001b[90mLineSearches\u001b[39m\n",
      "\u001b[32m  ✓ \u001b[39m\u001b[90mGR_jll\u001b[39m\n",
      "\u001b[32m  ✓ \u001b[39m\u001b[90mColorSchemes\u001b[39m\n",
      "\u001b[32m  ✓ \u001b[39m\u001b[90mDistributions\u001b[39m\n",
      "\u001b[32m  ✓ \u001b[39m\u001b[90mOptim\u001b[39m\n",
      "\u001b[32m  ✓ \u001b[39m\u001b[90mGR\u001b[39m\n",
      "\u001b[32m  ✓ \u001b[39m\u001b[90mPlotUtils\u001b[39m\n",
      "\u001b[32m  ✓ \u001b[39m\u001b[90mPlotThemes\u001b[39m\n",
      "\u001b[32m  ✓ \u001b[39m\u001b[90mRecipesPipeline\u001b[39m\n",
      "\u001b[32m  ✓ \u001b[39m\u001b[90mPlots\u001b[39m\n",
      "\u001b[32m  ✓ \u001b[39m\u001b[90mPlots → UnitfulExt\u001b[39m\n",
      "\u001b[32m  ✓ \u001b[39m\u001b[90mMathOptInterface\u001b[39m\n",
      "\u001b[32m  ✓ \u001b[39m\u001b[90mMadNLP\u001b[39m\n",
      "\u001b[32m  ✓ \u001b[39m\u001b[90mGLPK\u001b[39m\n",
      "\u001b[32m  ✓ \u001b[39m\u001b[90mJuMP\u001b[39m\n",
      "\u001b[32m  ✓ \u001b[39mVLDecisionsPackage\n",
      "  24 dependencies successfully precompiled in 327 seconds. 189 already precompiled.\n",
      "\u001b[32m\u001b[1m    Updating\u001b[22m\u001b[39m registry at `C:\\Users\\Lillian K\\.julia\\registries\\General.toml`\n",
      "\u001b[32m\u001b[1m    Updating\u001b[22m\u001b[39m git-repo `https://github.com/varnerlab/VLDecisionsPackage.jl.git`\n",
      "\u001b[32m\u001b[1m  No Changes\u001b[22m\u001b[39m to `C:\\Users\\Lillian K\\OneDrive\\Documents\\GitHub\\CHEME-5760-PS1-OptimalMacProRackDesign-Fall-2023\\Project.toml`\n",
      "\u001b[32m\u001b[1m  No Changes\u001b[22m\u001b[39m to `C:\\Users\\Lillian K\\OneDrive\\Documents\\GitHub\\CHEME-5760-PS1-OptimalMacProRackDesign-Fall-2023\\Manifest.toml`\n"
     ]
    }
   ],
   "source": [
    "include(\"Include.jl\");"
   ]
  },
  {
   "cell_type": "markdown",
   "metadata": {},
   "source": [
    "### Some additional setup stuff\n",
    "We’ll use `DataFrames` in the code below to display our choice data. \n",
    "* The `DataFrame` type is exported by the [DataFrames.jl](https://dataframes.juliadata.org/stable/) package, which provides a set of tools for working with tabular data in [Julia](https://julialang.org). Its design and functionality are similar to those of [Pandas (in Python)](https://pandas.pydata.org) and [data.frame, data.table, and dplyr (in R)](https://dplyr.tidyverse.org), making it an excellent general-purpose data science tool.\n",
    "* We add `DataFrames` to the notebook by issuing the `using Pkg` command followed by the `Pkg.add(\"DataFrames\")` command. [Pkg.jl](https://pkgdocs.julialang.org/v1/getting-started/) is the `built-in` Julia package manager used to `add/delete` external package dependencies. These two commands load `Pkg`, and use it to add `DataFrames` to the notebook. \n",
    "* Finally, the `using DataFrames` command loads the `DataFrames` package so we can use it."
   ]
  },
  {
   "cell_type": "code",
   "execution_count": 2,
   "metadata": {
    "tags": []
   },
   "outputs": [
    {
     "name": "stderr",
     "output_type": "stream",
     "text": [
      "\u001b[32m\u001b[1m   Resolving\u001b[22m\u001b[39m package versions...\n",
      "\u001b[32m\u001b[1m  No Changes\u001b[22m\u001b[39m to `C:\\Users\\Lillian K\\OneDrive\\Documents\\GitHub\\CHEME-5760-PS1-OptimalMacProRackDesign-Fall-2023\\Project.toml`\n",
      "\u001b[32m\u001b[1m  No Changes\u001b[22m\u001b[39m to `C:\\Users\\Lillian K\\OneDrive\\Documents\\GitHub\\CHEME-5760-PS1-OptimalMacProRackDesign-Fall-2023\\Manifest.toml`\n"
     ]
    }
   ],
   "source": [
    "# extra stuff that I'm adding -\n",
    "using Pkg;\n",
    "Pkg.add(\"DataFrames\")\n",
    "using DataFrames"
   ]
  },
  {
   "cell_type": "code",
   "execution_count": 3,
   "metadata": {
    "tags": []
   },
   "outputs": [],
   "source": [
    "using DataFrames"
   ]
  },
  {
   "cell_type": "markdown",
   "metadata": {},
   "source": [
    "#### Specify constants and other static stuff"
   ]
  },
  {
   "cell_type": "code",
   "execution_count": 4,
   "metadata": {
    "tags": []
   },
   "outputs": [],
   "source": [
    "number_of_choices = 14;\n",
    "bounds_array = Array{Float64,2}(undef, number_of_choices,2)\n",
    "for i ∈ 1:number_of_choices\n",
    "    bounds_array[i,1] = 0.0\n",
    "    bounds_array[i,2] = 1.0;\n",
    "end"
   ]
  },
  {
   "cell_type": "markdown",
   "metadata": {},
   "source": [
    "We add the `label_dictionary` dictionary which holds the labels for the options in our choice set:"
   ]
  },
  {
   "cell_type": "code",
   "execution_count": 5,
   "metadata": {
    "tags": []
   },
   "outputs": [],
   "source": [
    "label_dictionary = Dict{Int64,String}()\n",
    "label_dictionary[1] = \"CPU 1\"\n",
    "label_dictionary[2] = \"CPU 2\"\n",
    "label_dictionary[3] = \"Memory 1\"\n",
    "label_dictionary[4] = \"Memory 2\"\n",
    "label_dictionary[5] = \"Memory 3\"\n",
    "label_dictionary[6] = \"Storage 1\"\n",
    "label_dictionary[7] = \"Storage 2\"\n",
    "label_dictionary[8] = \"Storage 3\"\n",
    "label_dictionary[9] = \"Storage 4\"\n",
    "label_dictionary[10] = \"Accessory 1\"\n",
    "label_dictionary[11] = \"Accessory 2\"\n",
    "label_dictionary[12] = \"Accessory 3\"\n",
    "label_dictionary[13] = \"Software 1\"\n",
    "label_dictionary[14] = \"Software 2\";"
   ]
  },
  {
   "cell_type": "markdown",
   "metadata": {},
   "source": [
    "## Task 1: Specify the configuration array\n",
    "The `configuration_array` is a `14` $\\times$ `2` array holding perception and cost information about the problem. Each row of the `configuration_array` contains data for a particular MacPro configuration option. The first column contains the coefficients of the `Linear` utility function, i.e., the elements of the $\\alpha$-vector, while the unit price of the features, i.e., elements of the $c$-vector, are in the second column.  \n",
    "\n",
    "#### Feature prices\n",
    "The prices of each configuration option have been estimated from the [Apple MacPro server website](https://www.apple.com/shop/buy-mac/mac-pro/rack#).\n",
    "\n",
    "#### Linear utility weighting scheme\n",
    "In `PS1`, we'll use a category-based weighting scheme. In each of the five categories, allocate `1` unit of weight:\n",
    "\n",
    "* In each category, the coefficients in the `Linear` utility function for options in that category must sum to one.\n",
    "\n",
    "For example, if you have equal feelings about three options in a category, then `0.33, 0.33, 0.33` would be a typical scheme. On the other hand, if you are excited about feature `1` over the other two in the category, then `0.8,0.1,0.1` could be an appropriate weight scheme."
   ]
  },
  {
   "cell_type": "code",
   "execution_count": 6,
   "metadata": {},
   "outputs": [],
   "source": [
    "configuration_array = [\n",
    "\n",
    "    # 1 CPU options\n",
    "    0.5 2640.0    ; # 1 CPU 1\n",
    "    0.5 3649.0    ; # 2 CPU 2\n",
    "\n",
    "    # 2 Memory options\n",
    "    0.333 3840.0  ; # 3 Memory 1\n",
    "    0.333 4640.0  ; # 4 Memory 2\n",
    "    0.333 3600.0  ; # 5 Memory 3\n",
    "\n",
    "    # 3 Storage options -\n",
    "    0.25 1440.0   ; # 6 Storage 1\n",
    "    0.25 1840.0   ; # 7 Storage 2\n",
    "    0.25 2440.0   ; # 8 Storage 3\n",
    "    0.25 3640.0   ; # 9 Storage 4\n",
    "\n",
    "    # 4 Accessory options\n",
    "    0.333 79.0    ; # 10 Accessory 1\n",
    "    0.333 129.0   ; # 11 Accessory 2\n",
    "    0.333 149.0   ; # 12 Accessory 3\n",
    "    \n",
    "    # Software options\n",
    "    0.5 299.0     ; # 13 Software 1\n",
    "    0.5 149.0     ; # 14 Software 2\n",
    "];"
   ]
  },
  {
   "cell_type": "markdown",
   "metadata": {
    "tags": []
   },
   "source": [
    "### Task 2: Specify the feature constraint matrix `C`\n",
    "In each category, only a finite number of options can be selected simultaneously, typically only a single option, with the exception being the `Software` category, which is unconstrained (can have from zero up to two items selected). Because the decision variables are binary, we can implement this requirement with an additional set of constraints of the form:\n",
    "\n",
    "$$\n",
    "\\begin{equation}\n",
    "\\mathbf{C}\\mathbf{x} = \\mathbf{1}\n",
    "\\end{equation}\n",
    "$$\n",
    "\n",
    "where $\\mathbf{C}$ denotes the constraint matrix, $\\mathbf{x}$ denotes the choice vector and $\\mathbf{1}$ denotes a vector of `1`'s. \n",
    "Specify the $\\mathbf{C}$ matrix for this problem:"
   ]
  },
  {
   "cell_type": "code",
   "execution_count": 7,
   "metadata": {
    "tags": []
   },
   "outputs": [],
   "source": [
    "C = zeros(4,14); # understanding qestion: why is this a 4 x 14 array?"
   ]
  },
  {
   "cell_type": "code",
   "execution_count": 8,
   "metadata": {},
   "outputs": [],
   "source": [
    "C[1,1:2] .= 1;    # constraints on CPU options\n",
    "C[2,3:5] .= 1;    # constraints on memory options\n",
    "C[3,6:9] .= 1;    # constraints on storage options\n",
    "C[4,10:12] .= 1;  # constraints on accessory options"
   ]
  },
  {
   "cell_type": "markdown",
   "metadata": {},
   "source": [
    "__Note__: Julia's Array syntax is similar to Matlab/Octave, except with square brackets. See [the Array documentation](https://docs.julialang.org/en/v1/base/arrays/) or various other [Julia tutorials on the web](https://www.tutorialspoint.com/julia/julia_arrays.htm) about working with the Array data structure."
   ]
  },
  {
   "cell_type": "markdown",
   "metadata": {},
   "source": [
    "### Task 3: Specify the problem object, and solve for the optimal configuration\n",
    "Finally, build a `MySimpleBinaryVariableLinearChoiceProblem` model using the `build(...)` method, set this instance to the `problem` variable, and then pass the `problem` object to the `solve(...)` method. The `solve(...)` method will solve the `ILP` problem using the [GLPK.jl](https://github.com/jump-dev/GLPK.jl) interface to the [GLPK linear programming solver](https://www.gnu.org/software/glpk/)."
   ]
  },
  {
   "cell_type": "code",
   "execution_count": 9,
   "metadata": {
    "tags": []
   },
   "outputs": [],
   "source": [
    "α = configuration_array[:,1];\n",
    "c = configuration_array[:,2];\n",
    "I = 10000; # default budget is 10K USD"
   ]
  },
  {
   "cell_type": "code",
   "execution_count": 10,
   "metadata": {
    "tags": []
   },
   "outputs": [],
   "source": [
    "problem = build(MySimpleBinaryVariableLinearChoiceProblem, (\n",
    "    \n",
    "    α = α,\n",
    "    c = c,\n",
    "    I = I,\n",
    "    initial = zeros(14),\n",
    "    bounds = bounds_array,\n",
    "\n",
    "    # extra constraints -\n",
    "    C = C\n",
    "));\n",
    "solution = solve(problem);"
   ]
  },
  {
   "cell_type": "code",
   "execution_count": 11,
   "metadata": {
    "tags": []
   },
   "outputs": [
    {
     "data": {
      "text/plain": [
       "Dict{String, Any} with 3 entries:\n",
       "  \"argmax\"          => [1.0, 0.0, 1.0, 0.0, 0.0, 1.0, 0.0, 0.0, 0.0, 1.0, 0.0, …\n",
       "  \"budget\"          => 8447.0\n",
       "  \"objective_value\" => 2.416"
      ]
     },
     "execution_count": 11,
     "metadata": {},
     "output_type": "execute_result"
    }
   ],
   "source": [
    "solution"
   ]
  },
  {
   "cell_type": "markdown",
   "metadata": {},
   "source": [
    "#### Check: Are the choice constraints enforced?\n",
    "We can only select a fixed number of items from each category. Does your solution reflect this restriction? If the choice constraints are enforced, then the product of the solution and the constraint matrix should be the `4`$\\times$`1` vector of `1's`:"
   ]
  },
  {
   "cell_type": "code",
   "execution_count": 14,
   "metadata": {
    "tags": []
   },
   "outputs": [
    {
     "data": {
      "text/plain": [
       "4-element Vector{Float64}:\n",
       " 1.0\n",
       " 1.0\n",
       " 1.0\n",
       " 1.0"
      ]
     },
     "execution_count": 14,
     "metadata": {},
     "output_type": "execute_result"
    }
   ],
   "source": [
    "x = solution[\"argmax\"]\n",
    "x\n",
    "C*x"
   ]
  },
  {
   "cell_type": "code",
   "execution_count": 15,
   "metadata": {},
   "outputs": [
    {
     "data": {
      "text/plain": [
       "14-element Vector{Float64}:\n",
       " 1.0\n",
       " 0.0\n",
       " 1.0\n",
       " 0.0\n",
       " 0.0\n",
       " 1.0\n",
       " 0.0\n",
       " 0.0\n",
       " 0.0\n",
       " 1.0\n",
       " 0.0\n",
       " 0.0\n",
       " 1.0\n",
       " 1.0"
      ]
     },
     "execution_count": 15,
     "metadata": {},
     "output_type": "execute_result"
    }
   ],
   "source": [
    "x"
   ]
  },
  {
   "cell_type": "markdown",
   "metadata": {},
   "source": [
    "### Task 4: How does changing the $\\alpha$-vector (or the budget $I$) influence the configuration choice?\n",
    "Let's explore two cases which mimics how I purchase Apple products, namely:\n",
    "* `Case 1`: I maximize all the options (and hit my budget constraint)\n",
    "* `Case 2`: I maximize all the options (hit my budget constraint), but spend more than I wanted to (increase the budget constraint)"
   ]
  },
  {
   "cell_type": "markdown",
   "metadata": {
    "tags": []
   },
   "source": [
    "#### Case 1: Value the highest performance selections the most (change the $\\alpha$ values) with the original budget\n",
    "First, let's create a new configuration array named `configuration_array_case_1` in which we value the most expensive element of each category:"
   ]
  },
  {
   "cell_type": "code",
   "execution_count": 17,
   "metadata": {
    "tags": []
   },
   "outputs": [],
   "source": [
    "configuration_array_case_1 = [\n",
    "\n",
    "    # 1 CPU options\n",
    "    0.05 2640.0    ; # 1 CPU 1\n",
    "    0.95 3649.0    ; # 2 CPU 2\n",
    "\n",
    "    # 2 Memory options\n",
    "    0.1 3840.0  ; # 3 Memory 1\n",
    "    0.1 4640.0  ; # 4 Memory 2\n",
    "    0.8 3600.0  ; # 5 Memory 3\n",
    "\n",
    "    # 3 Storage options -\n",
    "    0.1 1440.0   ; # 6 Storage 1\n",
    "    0.1 1840.0   ; # 7 Storage 2\n",
    "    0.1 2440.0   ; # 8 Storage 3\n",
    "    0.7 3640.0   ; # 9 Storage 4\n",
    "\n",
    "    # 4 Accessory options\n",
    "    0.1 79.0    ; # 10 Accessory 1\n",
    "    0.1 129.0   ; # 11 Accessory 2\n",
    "    0.8 149.0   ; # 12 Accessory 3\n",
    "    \n",
    "    # Software options\n",
    "    0.1 299.0     ; # 13 Software 1\n",
    "    0.9 149.0     ; # 14 Software 2\n",
    "];"
   ]
  },
  {
   "cell_type": "markdown",
   "metadata": {},
   "source": [
    "Next, create a new problem object using the updated configuration array using the `build(...)` method and assign it to the `problem_case_1` variable. Then, solve the problem using the `solve(...)` method. Assign the solution to the `solution_case_1` variable:"
   ]
  },
  {
   "cell_type": "code",
   "execution_count": null,
   "metadata": {},
   "outputs": [],
   "source": []
  },
  {
   "cell_type": "code",
   "execution_count": 18,
   "metadata": {
    "tags": []
   },
   "outputs": [
    {
     "data": {
      "text/plain": [
       "Dict{String, Any} with 3 entries:\n",
       "  \"argmax\"          => [0.0, 1.0, 0.0, 0.0, 1.0, 0.0, 1.0, 0.0, 0.0, 0.0, 0.0, …\n",
       "  \"budget\"          => 9686.0\n",
       "  \"objective_value\" => 3.65"
      ]
     },
     "execution_count": 18,
     "metadata": {},
     "output_type": "execute_result"
    }
   ],
   "source": [
    "α₁ = configuration_array_case_1[:,1];\n",
    "c₁ = configuration_array_case_1[:,2];\n",
    "problem_case_1 = build(MySimpleBinaryVariableLinearChoiceProblem, (\n",
    "    \n",
    "    α = α₁,\n",
    "    c = c₁,\n",
    "    I = I,\n",
    "    initial = zeros(14),\n",
    "    bounds = bounds_array,\n",
    "\n",
    "    # extra constraints -\n",
    "    C = C\n",
    "));\n",
    "solution_case_1 = solve(problem_case_1)"
   ]
  },
  {
   "cell_type": "code",
   "execution_count": 19,
   "metadata": {
    "tags": []
   },
   "outputs": [
    {
     "data": {
      "text/plain": [
       "14-element Vector{Float64}:\n",
       " 0.0\n",
       " 1.0\n",
       " 0.0\n",
       " 0.0\n",
       " 1.0\n",
       " 0.0\n",
       " 1.0\n",
       " 0.0\n",
       " 0.0\n",
       " 0.0\n",
       " 0.0\n",
       " 1.0\n",
       " 1.0\n",
       " 1.0"
      ]
     },
     "execution_count": 19,
     "metadata": {},
     "output_type": "execute_result"
    }
   ],
   "source": [
    "x₁ = solution_case_1[\"argmax\"]"
   ]
  },
  {
   "cell_type": "markdown",
   "metadata": {},
   "source": [
    "#### Visualize: Build a table with the selected options for `case 1`\n",
    "Let's build a table that holds the selected options for `case 1` and their prices using a `DataFrame` instance:"
   ]
  },
  {
   "cell_type": "code",
   "execution_count": 20,
   "metadata": {
    "tags": []
   },
   "outputs": [
    {
     "data": {
      "text/html": [
       "<div><div style = \"float: left;\"><span>6×2 DataFrame</span></div><div style = \"clear: both;\"></div></div><div class = \"data-frame\" style = \"overflow-x: scroll;\"><table class = \"data-frame\" style = \"margin-bottom: 6px;\"><thead><tr class = \"header\"><th class = \"rowNumber\" style = \"font-weight: bold; text-align: right;\">Row</th><th style = \"text-align: left;\">option</th><th style = \"text-align: left;\">price</th></tr><tr class = \"subheader headerLastRow\"><th class = \"rowNumber\" style = \"font-weight: bold; text-align: right;\"></th><th title = \"String\" style = \"text-align: left;\">String</th><th title = \"Float64\" style = \"text-align: left;\">Float64</th></tr></thead><tbody><tr><td class = \"rowNumber\" style = \"font-weight: bold; text-align: right;\">1</td><td style = \"text-align: left;\">CPU 2</td><td style = \"text-align: right;\">3649.0</td></tr><tr><td class = \"rowNumber\" style = \"font-weight: bold; text-align: right;\">2</td><td style = \"text-align: left;\">Memory 3</td><td style = \"text-align: right;\">3600.0</td></tr><tr><td class = \"rowNumber\" style = \"font-weight: bold; text-align: right;\">3</td><td style = \"text-align: left;\">Storage 2</td><td style = \"text-align: right;\">1840.0</td></tr><tr><td class = \"rowNumber\" style = \"font-weight: bold; text-align: right;\">4</td><td style = \"text-align: left;\">Accessory 3</td><td style = \"text-align: right;\">149.0</td></tr><tr><td class = \"rowNumber\" style = \"font-weight: bold; text-align: right;\">5</td><td style = \"text-align: left;\">Software 1</td><td style = \"text-align: right;\">299.0</td></tr><tr><td class = \"rowNumber\" style = \"font-weight: bold; text-align: right;\">6</td><td style = \"text-align: left;\">Software 2</td><td style = \"text-align: right;\">149.0</td></tr></tbody></table></div>"
      ],
      "text/latex": [
       "\\begin{tabular}{r|cc}\n",
       "\t& option & price\\\\\n",
       "\t\\hline\n",
       "\t& String & Float64\\\\\n",
       "\t\\hline\n",
       "\t1 & CPU 2 & 3649.0 \\\\\n",
       "\t2 & Memory 3 & 3600.0 \\\\\n",
       "\t3 & Storage 2 & 1840.0 \\\\\n",
       "\t4 & Accessory 3 & 149.0 \\\\\n",
       "\t5 & Software 1 & 299.0 \\\\\n",
       "\t6 & Software 2 & 149.0 \\\\\n",
       "\\end{tabular}\n"
      ],
      "text/plain": [
       "\u001b[1m6×2 DataFrame\u001b[0m\n",
       "\u001b[1m Row \u001b[0m│\u001b[1m option      \u001b[0m\u001b[1m price   \u001b[0m\n",
       "     │\u001b[90m String      \u001b[0m\u001b[90m Float64 \u001b[0m\n",
       "─────┼──────────────────────\n",
       "   1 │ CPU 2         3649.0\n",
       "   2 │ Memory 3      3600.0\n",
       "   3 │ Storage 2     1840.0\n",
       "   4 │ Accessory 3    149.0\n",
       "   5 │ Software 1     299.0\n",
       "   6 │ Software 2     149.0"
      ]
     },
     "execution_count": 20,
     "metadata": {},
     "output_type": "execute_result"
    }
   ],
   "source": [
    "table_case_1 = DataFrame()\n",
    "for i ∈ eachindex(x₁)\n",
    "    \n",
    "    choice_value = x₁[i]\n",
    "    if (choice_value == 1)\n",
    "        \n",
    "        # row data -\n",
    "        row_data = (\n",
    "            option = label_dictionary[i],\n",
    "            price = c₁[i]\n",
    "        )\n",
    "        push!(table_case_1, row_data)\n",
    "    end\n",
    "end\n",
    "table_case_1"
   ]
  },
  {
   "cell_type": "code",
   "execution_count": 50,
   "metadata": {
    "tags": []
   },
   "outputs": [
    {
     "data": {
      "text/plain": [
       "9686.0"
      ]
     },
     "execution_count": 50,
     "metadata": {},
     "output_type": "execute_result"
    }
   ],
   "source": [
    "total_cost = sum(table_case_1[:,:price])"
   ]
  },
  {
   "cell_type": "markdown",
   "metadata": {},
   "source": [
    "#### Case 2: Value the highest performance selections the most, and increase the budget to `I = 15000 USD`\n",
    "Create a new problem object using the updated budget value `I = 15000` and configuration array from `case 1` using the `build(...)` method and assign it to the `problem_case_2` variable. Then, solve the problem using the `solve(...)` method. Assign the solution to the `solution_case_2` variable:"
   ]
  },
  {
   "cell_type": "code",
   "execution_count": 66,
   "metadata": {
    "tags": []
   },
   "outputs": [
    {
     "data": {
      "text/plain": [
       "Dict{String, Any} with 3 entries:\n",
       "  \"argmax\"          => [0.0, 1.0, 0.0, 0.0, 1.0, 0.0, 0.0, 0.0, 1.0, 0.0, 0.0, …\n",
       "  \"budget\"          => 11486.0\n",
       "  \"objective_value\" => 4.25"
      ]
     },
     "execution_count": 66,
     "metadata": {},
     "output_type": "execute_result"
    }
   ],
   "source": [
    "α₂ = configuration_array_case_1[:,1];\n",
    "c₂ = configuration_array_case_1[:,2];\n",
    "problem_case_2 = build(MySimpleBinaryVariableLinearChoiceProblem, (\n",
    "    \n",
    "    α = α₂,\n",
    "    c = c₂,\n",
    "    I = 15000,\n",
    "    initial = zeros(14),\n",
    "    bounds = bounds_array,\n",
    "\n",
    "    # extra constraints -\n",
    "    C = C\n",
    "));\n",
    "solution_case_2 = solve(problem_case_2)"
   ]
  },
  {
   "cell_type": "code",
   "execution_count": 67,
   "metadata": {
    "tags": []
   },
   "outputs": [
    {
     "data": {
      "text/plain": [
       "14-element Vector{Float64}:\n",
       " 0.0\n",
       " 1.0\n",
       " 0.0\n",
       " 0.0\n",
       " 1.0\n",
       " 0.0\n",
       " 0.0\n",
       " 0.0\n",
       " 1.0\n",
       " 0.0\n",
       " 0.0\n",
       " 1.0\n",
       " 1.0\n",
       " 1.0"
      ]
     },
     "execution_count": 67,
     "metadata": {},
     "output_type": "execute_result"
    }
   ],
   "source": [
    "x₂ = solution_case_2[\"argmax\"]"
   ]
  },
  {
   "cell_type": "markdown",
   "metadata": {},
   "source": [
    "#### Visualize: Build a table with the selected options for `case 2`\n",
    "Let's build a table that holds the selected options for `case 2` and their prices using a `DataFrame` instance:"
   ]
  },
  {
   "cell_type": "code",
   "execution_count": 68,
   "metadata": {
    "tags": []
   },
   "outputs": [
    {
     "data": {
      "text/html": [
       "<div><div style = \"float: left;\"><span>6×2 DataFrame</span></div><div style = \"clear: both;\"></div></div><div class = \"data-frame\" style = \"overflow-x: scroll;\"><table class = \"data-frame\" style = \"margin-bottom: 6px;\"><thead><tr class = \"header\"><th class = \"rowNumber\" style = \"font-weight: bold; text-align: right;\">Row</th><th style = \"text-align: left;\">option</th><th style = \"text-align: left;\">price</th></tr><tr class = \"subheader headerLastRow\"><th class = \"rowNumber\" style = \"font-weight: bold; text-align: right;\"></th><th title = \"String\" style = \"text-align: left;\">String</th><th title = \"Float64\" style = \"text-align: left;\">Float64</th></tr></thead><tbody><tr><td class = \"rowNumber\" style = \"font-weight: bold; text-align: right;\">1</td><td style = \"text-align: left;\">CPU 2</td><td style = \"text-align: right;\">3649.0</td></tr><tr><td class = \"rowNumber\" style = \"font-weight: bold; text-align: right;\">2</td><td style = \"text-align: left;\">Memory 3</td><td style = \"text-align: right;\">3600.0</td></tr><tr><td class = \"rowNumber\" style = \"font-weight: bold; text-align: right;\">3</td><td style = \"text-align: left;\">Storage 4</td><td style = \"text-align: right;\">3640.0</td></tr><tr><td class = \"rowNumber\" style = \"font-weight: bold; text-align: right;\">4</td><td style = \"text-align: left;\">Accessory 3</td><td style = \"text-align: right;\">149.0</td></tr><tr><td class = \"rowNumber\" style = \"font-weight: bold; text-align: right;\">5</td><td style = \"text-align: left;\">Software 1</td><td style = \"text-align: right;\">299.0</td></tr><tr><td class = \"rowNumber\" style = \"font-weight: bold; text-align: right;\">6</td><td style = \"text-align: left;\">Software 2</td><td style = \"text-align: right;\">149.0</td></tr></tbody></table></div>"
      ],
      "text/latex": [
       "\\begin{tabular}{r|cc}\n",
       "\t& option & price\\\\\n",
       "\t\\hline\n",
       "\t& String & Float64\\\\\n",
       "\t\\hline\n",
       "\t1 & CPU 2 & 3649.0 \\\\\n",
       "\t2 & Memory 3 & 3600.0 \\\\\n",
       "\t3 & Storage 4 & 3640.0 \\\\\n",
       "\t4 & Accessory 3 & 149.0 \\\\\n",
       "\t5 & Software 1 & 299.0 \\\\\n",
       "\t6 & Software 2 & 149.0 \\\\\n",
       "\\end{tabular}\n"
      ],
      "text/plain": [
       "\u001b[1m6×2 DataFrame\u001b[0m\n",
       "\u001b[1m Row \u001b[0m│\u001b[1m option      \u001b[0m\u001b[1m price   \u001b[0m\n",
       "     │\u001b[90m String      \u001b[0m\u001b[90m Float64 \u001b[0m\n",
       "─────┼──────────────────────\n",
       "   1 │ CPU 2         3649.0\n",
       "   2 │ Memory 3      3600.0\n",
       "   3 │ Storage 4     3640.0\n",
       "   4 │ Accessory 3    149.0\n",
       "   5 │ Software 1     299.0\n",
       "   6 │ Software 2     149.0"
      ]
     },
     "execution_count": 68,
     "metadata": {},
     "output_type": "execute_result"
    }
   ],
   "source": [
    "table_case_2 = DataFrame()\n",
    "for i ∈ eachindex(x₂)\n",
    "    \n",
    "    choice_value = x₂[i]\n",
    "    if (choice_value == 1)\n",
    "        \n",
    "        # row data -\n",
    "        row_data = (\n",
    "            option = label_dictionary[i],\n",
    "            price = c₂[i]\n",
    "        )\n",
    "        push!(table_case_2, row_data)\n",
    "    end\n",
    "end\n",
    "table_case_2"
   ]
  },
  {
   "cell_type": "code",
   "execution_count": 65,
   "metadata": {
    "tags": []
   },
   "outputs": [
    {
     "data": {
      "text/plain": [
       "11486.0"
      ]
     },
     "execution_count": 65,
     "metadata": {},
     "output_type": "execute_result"
    }
   ],
   "source": [
    "total_cost = sum(table_case_2[:,:price])"
   ]
  }
 ],
 "metadata": {
  "kernelspec": {
   "display_name": "Julia 1.9.2",
   "language": "julia",
   "name": "julia-1.9"
  },
  "language_info": {
   "file_extension": ".jl",
   "mimetype": "application/julia",
   "name": "julia",
   "version": "1.9.2"
  }
 },
 "nbformat": 4,
 "nbformat_minor": 5
}
