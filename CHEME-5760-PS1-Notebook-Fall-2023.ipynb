{
 "cells": [
  {
   "cell_type": "markdown",
   "metadata": {},
   "source": [
    "## Yanran Kuang (yk522)\n",
    "## PS1: Optimize the feature set of a rack-mounted M2 MacPro Server\n",
    "The [new MacPro with the M2 Ultra chip has been released](https://www.apple.com/shop/buy-mac/mac-pro/rack#). The MacPro M2 has several configuration options broadly organized into five categories: `{CPU, Memory, Storage, Accessories, Software}` with multiple options per category:\n",
    "* The `CPU` category has `2` options. Only one option can be selected from the `CPU` category\n",
    "* The `Memory` category has `3` options. Only one option can be selected from the `Memory` category.\n",
    "* The `Storage` category has `4` options. Only one option can be selected from the `Storage` category.\n",
    "* The `Accessories` category has `3` options. Only one option can be selected from the `Accessories` category\n",
    "* The `Software` category has `2` options. Neither or both options can be selected from the `Software` category\n",
    "\n",
    "### Problem statement\n",
    "Using a `linear` utility model and budget and feature constraints, compute the optimal set of features for a rack-mounted MacPro M2. This problem will be similar to the examples discussed in the lecture and discussion, except for one crucial element: the decision variables (our choices) will be `binary`, i.e., $x_{i}\\in{0,1}$ where a `0` indicates that we do NOT choose feature $i$. In contrast, a value of `1` indicates that we choose option $i$. \n",
    "\n",
    "Formally, an agent has a set of $n$ configuration options $X = \\left\\{x_{i}\\right\\}_{i=1}^{n}$, a `Linear` utility function, and a total of $I$ units of resource to allocate, e.g., money, and potentially other constraints. An optimal agent maximizes its utility subject to its resource and other constraints:\n",
    "\n",
    "\\begin{eqnarray}\n",
    "\\text{maximize}~\\mathcal{O} &=& \\sum_{i\\in{1,\\dotsc,n}}\\alpha_{i}x_{i} \\\\\n",
    "\\text{subject to}~\\sum_{i\\in{1,\\dotsc,n}}c_{i}x_{i} & = & I\\\\\n",
    "\\text{and}~\\mathbf{C}\\mathbf{x} & \\leq & \\mathbf{b} \\\\\n",
    "\\text{and}~x_{i}&\\in&{0,1}\\qquad{i=1,2,\\dots,n}\n",
    "\\end{eqnarray}\n",
    "\n",
    "The quantity $c_{i}\\geq{0}~\\forall{i}$ denotes the cost of option $i$, $\\alpha_{i}$ denotes user-specified coefficient in the `Linear` utility function, $x_{i}\\in{0,1}$ represents the choice of option $i$, and $\\mathbf{C}\\mathbf{x} \\leq \\mathbf{b}$ represents additional constraints governing the decision.\n",
    "\n",
    "#### List of Tasks\n",
    "* __Task 1__: Specify $\\alpha$- and $c$-vectors for the problem\n",
    "* __Task 2__: Specify the additional constraint matrix $\\mathbf{C}$\n",
    "* __Task 3__: Specify the problem object and solve the problem\n",
    "* __Task 4__: Try at least two different weighting schemes and different budget values, and explore how these design choices influence the optimal configuration (one of these __can__ be the `default` values specified below)."
   ]
  },
  {
   "cell_type": "markdown",
   "metadata": {},
   "source": [
    "### Setup\n",
    "The computations in this problem set rely on [VLDecisionsPackage.jl](https://github.com/varnerlab/VLDecisionsPackage.jl.git) and several external `Julia` packages. To load the required packages and any custom codes the teaching team has developed to work with these packages, we [include](https://docs.julialang.org/en/v1/manual/code-loading/) the `Include.jl` file):"
   ]
  },
  {
   "cell_type": "code",
   "execution_count": 1,
   "metadata": {
    "tags": []
   },
   "outputs": [
    {
     "name": "stderr",
     "output_type": "stream",
     "text": [
      "\u001b[32m\u001b[1m  Activating\u001b[22m\u001b[39m project at `C:\\Users\\Lillian K\\OneDrive\\Documents\\GitHub\\CHEME-5760-PS1-OptimalMacProRackDesign-Fall-2023`\n",
      "\u001b[32m\u001b[1m    Updating\u001b[22m\u001b[39m registry at `C:\\Users\\Lillian K\\.julia\\registries\\General.toml`\n",
      "\u001b[32m\u001b[1m    Updating\u001b[22m\u001b[39m git-repo `https://github.com/varnerlab/VLDecisionsPackage.jl.git`\n",
      "\u001b[32m\u001b[1m  No Changes\u001b[22m\u001b[39m to `C:\\Users\\Lillian K\\OneDrive\\Documents\\GitHub\\CHEME-5760-PS1-OptimalMacProRackDesign-Fall-2023\\Project.toml`\n",
      "\u001b[32m\u001b[1m  No Changes\u001b[22m\u001b[39m to `C:\\Users\\Lillian K\\OneDrive\\Documents\\GitHub\\CHEME-5760-PS1-OptimalMacProRackDesign-Fall-2023\\Manifest.toml`\n"
     ]
    }
   ],
   "source": [
    "include(\"Include.jl\");"
   ]
  },
  {
   "cell_type": "markdown",
   "metadata": {},
   "source": [
    "#### Specify constants and other static stuff"
   ]
  },
  {
   "cell_type": "code",
   "execution_count": 2,
   "metadata": {
    "tags": []
   },
   "outputs": [],
   "source": [
    "number_of_choices = 14;\n",
    "bounds_array = Array{Float64,2}(undef, number_of_choices,2)\n",
    "for i ∈ 1:number_of_choices\n",
    "    bounds_array[i,1] = 0.0\n",
    "    bounds_array[i,2] = 1.0;\n",
    "end"
   ]
  },
  {
   "cell_type": "code",
   "execution_count": 24,
   "metadata": {},
   "outputs": [
    {
     "name": "stderr",
     "output_type": "stream",
     "text": [
      "\u001b[32m\u001b[1m   Resolving\u001b[22m\u001b[39m package versions...\n",
      "\u001b[32m\u001b[1m  No Changes\u001b[22m\u001b[39m to `C:\\Users\\Lillian K\\OneDrive\\Documents\\GitHub\\CHEME-5760-PS1-OptimalMacProRackDesign-Fall-2023\\Project.toml`\n",
      "\u001b[32m\u001b[1m  No Changes\u001b[22m\u001b[39m to `C:\\Users\\Lillian K\\OneDrive\\Documents\\GitHub\\CHEME-5760-PS1-OptimalMacProRackDesign-Fall-2023\\Manifest.toml`\n"
     ]
    }
   ],
   "source": [
    "# extra stuff for tables -\n",
    "using Pkg;\n",
    "Pkg.add(\"DataFrames\")\n",
    "using DataFrames"
   ]
  },
  {
   "cell_type": "code",
   "execution_count": 26,
   "metadata": {},
   "outputs": [],
   "source": [
    "label_dictionary = Dict{Int64,String}()\n",
    "label_dictionary[1] = \"CPU 1\"\n",
    "label_dictionary[2] = \"CPU 2\"\n",
    "label_dictionary[3] = \"Memory 1\"\n",
    "label_dictionary[4] = \"Memory 2\"\n",
    "label_dictionary[5] = \"Memory 3\"\n",
    "label_dictionary[6] = \"Storage 1\"\n",
    "label_dictionary[7] = \"Storage 2\"\n",
    "label_dictionary[8] = \"Storage 3\"\n",
    "label_dictionary[9] = \"Storage 4\"\n",
    "label_dictionary[10] = \"Accessory 1\"\n",
    "label_dictionary[11] = \"Accessory 2\"\n",
    "label_dictionary[12] = \"Accessory 3\"\n",
    "label_dictionary[13] = \"Software 1\"\n",
    "label_dictionary[14] = \"Software 2\";"
   ]
  },
  {
   "cell_type": "markdown",
   "metadata": {},
   "source": [
    "## Task 1: Specify the configuration array\n",
    "The `configuration_array` is a `14` $\\times$ `2` array holding perception and cost information about the problem. Each row of the `configuration_array` contains data for a particular MacPro configuration option. The first column contains the coefficients of the `Linear` utility function, i.e., the elements of the $\\alpha$-vector, while the unit price of the features, i.e., elements of the $c$-vector, are in the second column.  \n",
    "\n",
    "#### Feature prices\n",
    "The prices of each configuration option have been estimated from the [Apple MacPro server website](https://www.apple.com/shop/buy-mac/mac-pro/rack#).\n",
    "\n",
    "#### Linear utility weighting scheme\n",
    "In `PS1`, we'll use a category-based weighting scheme. In each of the five categories, allocate `1` unit of weight:\n",
    "\n",
    "* In each category, the coefficients in the `Linear` utility function for options in that category must sum to one.\n",
    "\n",
    "For example, if you have equal feelings about three options in a category, then `0.33, 0.33, 0.33` would be a typical scheme. On the other hand, if you are excited about feature `1` over the other two in the category, then `0.8,0.1,0.1` could be an appropriate weight scheme."
   ]
  },
  {
   "cell_type": "code",
   "execution_count": 11,
   "metadata": {},
   "outputs": [],
   "source": [
    "configuration_array = [\n",
    "\n",
    "    # CPU options\n",
    "    0.5 2640.0    ; # 1 CPU 1\n",
    "    0.5 3649.0    ; # 2 CPU 2\n",
    "\n",
    "    # Memory options\n",
    "    0.2 3840.0  ; # 3 Memory 1\n",
    "    0.35 4640.0  ; # 4 Memory 2\n",
    "    0.45 3600.0  ; # 5 Memory 3\n",
    "\n",
    "    # Storage options -\n",
    "    0.15 1440.0   ; # 6 Storage 1\n",
    "    0.3 1840.0   ; # 7 Storage 2\n",
    "    0.3 2440.0   ; # 8 Storage 3\n",
    "    0.25 3640.0   ; # 9 Storage 4\n",
    "\n",
    "    # Accessory options\n",
    "    0.1 79.0    ; # 10 Accessory 1\n",
    "    0.2 129.0   ; # 11 Accessory 2\n",
    "    0.7 149.0   ; # 12 Accessory 3\n",
    "    \n",
    "    # Software options\n",
    "    0.8 299.0     ; # 13 Software 1\n",
    "    0.2 149.0     ; # 14 Software 2\n",
    "];"
   ]
  },
  {
   "cell_type": "markdown",
   "metadata": {
    "tags": []
   },
   "source": [
    "### Task 2: Specify the feature constraint matrix `C`\n",
    "In each category, only a finite number of options can be selected simultaneously, typically only a single option, with the exception being the `Software` category, which is unconstrained (can have from zero up to two items selected). Because the decision variables are binary, we can implement this requirement with an additional set of constraints of the form:\n",
    "\n",
    "$$\n",
    "\\begin{equation}\n",
    "\\mathbf{C}\\mathbf{x} = \\mathbf{1}\n",
    "\\end{equation}\n",
    "$$\n",
    "\n",
    "where $\\mathbf{C}$ denotes the constraint matrix, $\\mathbf{x}$ denotes the choice vector and $\\mathbf{1}$ denotes a vector of `1`'s. \n",
    "Specify the $\\mathbf{C}$ matrix for this problem:"
   ]
  },
  {
   "cell_type": "code",
   "execution_count": 12,
   "metadata": {
    "tags": []
   },
   "outputs": [],
   "source": [
    "C = zeros(4,14); # understanding qestion: why is this a 4 x 14 array?\n",
    "# answer: there are 4 rows to represent the 4 categories that can only have one choice per category. In The fifth category (software)\n",
    "# we can choose both options, so there's no constraint there. there are 14 columns to represent all 14 options"
   ]
  },
  {
   "cell_type": "markdown",
   "metadata": {},
   "source": [
    "__Note__: Julia's Array syntax is similar to Matlab/Octave, except with square brackets. See [the Array documentation](https://docs.julialang.org/en/v1/base/arrays/) or various other [Julia tutorials on the web](https://www.tutorialspoint.com/julia/julia_arrays.htm) about working with the Array data structure."
   ]
  },
  {
   "cell_type": "code",
   "execution_count": 16,
   "metadata": {},
   "outputs": [],
   "source": [
    "C[1,1:2] .= 1;    # constraints on CPU options\n",
    "C[2,3:5] .= 1;    # constraints on memory options\n",
    "C[3,6:9] .= 1;    # constraints on storage options\n",
    "C[4,10:12] .= 1;  # constraints on accessory options"
   ]
  },
  {
   "cell_type": "markdown",
   "metadata": {},
   "source": [
    "### Task 3: Specify the problem object, and solve for the optimal configuration\n",
    "Finally, build a `MySimpleBinaryVariableLinearChoiceProblem` model using the `build(...)` method, set this instance to the `problem` variable, and then pass the `problem` object to the `solve(...)` method. The `solve(...)` method will solve the `ILP` problem using the [GLPK.jl](https://github.com/jump-dev/GLPK.jl) interface to the [GLPK linear programming solver](https://www.gnu.org/software/glpk/)."
   ]
  },
  {
   "cell_type": "code",
   "execution_count": 17,
   "metadata": {
    "tags": []
   },
   "outputs": [],
   "source": [
    "α = configuration_array[:,1];\n",
    "c = configuration_array[:,2];\n",
    "I = 10000; # default budget is 10K USD\n",
    "\n",
    "problem = build(MySimpleBinaryVariableLinearChoiceProblem, (\n",
    "    \n",
    "    α = α,\n",
    "    c = c,\n",
    "    I = I,\n",
    "    initial = zeros(14),\n",
    "    bounds = bounds_array,\n",
    "\n",
    "    # extra constraints -\n",
    "    C = C\n",
    "));\n",
    "solution = solve(problem);"
   ]
  },
  {
   "cell_type": "code",
   "execution_count": 18,
   "metadata": {},
   "outputs": [
    {
     "data": {
      "text/plain": [
       "Dict{String, Any} with 3 entries:\n",
       "  \"argmax\"          => [1.0, 0.0, 1.0, 0.0, 0.0, 1.0, 0.0, 0.0, 0.0, 1.0, 0.0, …\n",
       "  \"budget\"          => 8447.0\n",
       "  \"objective_value\" => 2.416"
      ]
     },
     "execution_count": 18,
     "metadata": {},
     "output_type": "execute_result"
    }
   ],
   "source": [
    "solution"
   ]
  },
  {
   "cell_type": "markdown",
   "metadata": {},
   "source": [
    "#### Check: Are the choice constraints enforced?\n",
    "We can only select a fixed number of items from each category. Does your solution reflect this restriction?"
   ]
  },
  {
   "cell_type": "code",
   "execution_count": 19,
   "metadata": {
    "tags": []
   },
   "outputs": [
    {
     "data": {
      "text/plain": [
       "4-element Vector{Float64}:\n",
       " 1.0\n",
       " 1.0\n",
       " 1.0\n",
       " 1.0"
      ]
     },
     "execution_count": 19,
     "metadata": {},
     "output_type": "execute_result"
    }
   ],
   "source": [
    "x = solution[\"argmax\"]\n",
    "x\n",
    "C*x"
   ]
  },
  {
   "cell_type": "markdown",
   "metadata": {},
   "source": [
    "### Task 4: How does changing the $\\alpha$-vector (or the budget $I$) influence the configuration choice?\n",
    "### Let's explore two different scenarios:\n",
    "\n",
    "### Case 1: I maximize all the options (and hit my budget constraint)\n",
    "### Case 2: I reduce the budget and give heavier preference to the least expensive options"
   ]
  },
  {
   "cell_type": "code",
   "execution_count": 10,
   "metadata": {
    "tags": []
   },
   "outputs": [],
   "source": []
  },
  {
   "cell_type": "markdown",
   "metadata": {
    "tags": []
   },
   "source": [
    "#### Case 1: Value the highest performance selections the most (change the $\\alpha$ values) with the original budget\n",
    "First, let's create a new configuration array named `configuration_array_case_1` in which we value the most expensive element of each category:"
   ]
  },
  {
   "cell_type": "code",
   "execution_count": 20,
   "metadata": {},
   "outputs": [],
   "source": [
    "configuration_array_case_1 = [\n",
    "\n",
    "    # 1 CPU options\n",
    "    0.05 2640.0    ; # 1 CPU 1\n",
    "    0.95 3649.0    ; # 2 CPU 2\n",
    "\n",
    "    # 2 Memory options\n",
    "    0.1 3840.0  ; # 3 Memory 1\n",
    "    0.1 4640.0  ; # 4 Memory 2\n",
    "    0.8 3600.0  ; # 5 Memory 3\n",
    "\n",
    "    # 3 Storage options -\n",
    "    0.1 1440.0   ; # 6 Storage 1\n",
    "    0.1 1840.0   ; # 7 Storage 2\n",
    "    0.1 2440.0   ; # 8 Storage 3\n",
    "    0.7 3640.0   ; # 9 Storage 4\n",
    "\n",
    "    # 4 Accessory options\n",
    "    0.1 79.0    ; # 10 Accessory 1\n",
    "    0.1 129.0   ; # 11 Accessory 2\n",
    "    0.8 149.0   ; # 12 Accessory 3\n",
    "    \n",
    "    # Software options\n",
    "    0.1 299.0     ; # 13 Software 1\n",
    "    0.9 149.0     ; # 14 Software 2\n",
    "];"
   ]
  },
  {
   "cell_type": "code",
   "execution_count": 21,
   "metadata": {},
   "outputs": [
    {
     "data": {
      "text/plain": [
       "Dict{String, Any} with 3 entries:\n",
       "  \"argmax\"          => [0.0, 1.0, 0.0, 0.0, 1.0, 0.0, 1.0, 0.0, 0.0, 0.0, 0.0, …\n",
       "  \"budget\"          => 9686.0\n",
       "  \"objective_value\" => 3.65"
      ]
     },
     "execution_count": 21,
     "metadata": {},
     "output_type": "execute_result"
    }
   ],
   "source": [
    "α₁ = configuration_array_case_1[:,1];\n",
    "c₁ = configuration_array_case_1[:,2];\n",
    "problem_case_1 = build(MySimpleBinaryVariableLinearChoiceProblem, (\n",
    "    \n",
    "    α = α₁,\n",
    "    c = c₁,\n",
    "    I = I,\n",
    "    initial = zeros(14),\n",
    "    bounds = bounds_array,\n",
    "\n",
    "    # extra constraints -\n",
    "    C = C\n",
    "));\n",
    "solution_case_1 = solve(problem_case_1)"
   ]
  },
  {
   "cell_type": "code",
   "execution_count": 22,
   "metadata": {},
   "outputs": [
    {
     "data": {
      "text/plain": [
       "14-element Vector{Float64}:\n",
       " 0.0\n",
       " 1.0\n",
       " 0.0\n",
       " 0.0\n",
       " 1.0\n",
       " 0.0\n",
       " 1.0\n",
       " 0.0\n",
       " 0.0\n",
       " 0.0\n",
       " 0.0\n",
       " 1.0\n",
       " 1.0\n",
       " 1.0"
      ]
     },
     "execution_count": 22,
     "metadata": {},
     "output_type": "execute_result"
    }
   ],
   "source": [
    "x₁ = solution_case_1[\"argmax\"]"
   ]
  },
  {
   "cell_type": "markdown",
   "metadata": {},
   "source": [
    "#### Visualize: Build a table with the selected options for `case 1`\n",
    "Let's build a table that holds the selected options for `case 1` and their prices using a `DataFrame` instance:"
   ]
  },
  {
   "cell_type": "code",
   "execution_count": 27,
   "metadata": {},
   "outputs": [
    {
     "data": {
      "text/html": [
       "<div><div style = \"float: left;\"><span>6×2 DataFrame</span></div><div style = \"clear: both;\"></div></div><div class = \"data-frame\" style = \"overflow-x: scroll;\"><table class = \"data-frame\" style = \"margin-bottom: 6px;\"><thead><tr class = \"header\"><th class = \"rowNumber\" style = \"font-weight: bold; text-align: right;\">Row</th><th style = \"text-align: left;\">option</th><th style = \"text-align: left;\">price</th></tr><tr class = \"subheader headerLastRow\"><th class = \"rowNumber\" style = \"font-weight: bold; text-align: right;\"></th><th title = \"String\" style = \"text-align: left;\">String</th><th title = \"Float64\" style = \"text-align: left;\">Float64</th></tr></thead><tbody><tr><td class = \"rowNumber\" style = \"font-weight: bold; text-align: right;\">1</td><td style = \"text-align: left;\">CPU 2</td><td style = \"text-align: right;\">3649.0</td></tr><tr><td class = \"rowNumber\" style = \"font-weight: bold; text-align: right;\">2</td><td style = \"text-align: left;\">Memory 3</td><td style = \"text-align: right;\">3600.0</td></tr><tr><td class = \"rowNumber\" style = \"font-weight: bold; text-align: right;\">3</td><td style = \"text-align: left;\">Storage 2</td><td style = \"text-align: right;\">1840.0</td></tr><tr><td class = \"rowNumber\" style = \"font-weight: bold; text-align: right;\">4</td><td style = \"text-align: left;\">Accessory 3</td><td style = \"text-align: right;\">149.0</td></tr><tr><td class = \"rowNumber\" style = \"font-weight: bold; text-align: right;\">5</td><td style = \"text-align: left;\">Software 1</td><td style = \"text-align: right;\">299.0</td></tr><tr><td class = \"rowNumber\" style = \"font-weight: bold; text-align: right;\">6</td><td style = \"text-align: left;\">Software 2</td><td style = \"text-align: right;\">149.0</td></tr></tbody></table></div>"
      ],
      "text/latex": [
       "\\begin{tabular}{r|cc}\n",
       "\t& option & price\\\\\n",
       "\t\\hline\n",
       "\t& String & Float64\\\\\n",
       "\t\\hline\n",
       "\t1 & CPU 2 & 3649.0 \\\\\n",
       "\t2 & Memory 3 & 3600.0 \\\\\n",
       "\t3 & Storage 2 & 1840.0 \\\\\n",
       "\t4 & Accessory 3 & 149.0 \\\\\n",
       "\t5 & Software 1 & 299.0 \\\\\n",
       "\t6 & Software 2 & 149.0 \\\\\n",
       "\\end{tabular}\n"
      ],
      "text/plain": [
       "\u001b[1m6×2 DataFrame\u001b[0m\n",
       "\u001b[1m Row \u001b[0m│\u001b[1m option      \u001b[0m\u001b[1m price   \u001b[0m\n",
       "     │\u001b[90m String      \u001b[0m\u001b[90m Float64 \u001b[0m\n",
       "─────┼──────────────────────\n",
       "   1 │ CPU 2         3649.0\n",
       "   2 │ Memory 3      3600.0\n",
       "   3 │ Storage 2     1840.0\n",
       "   4 │ Accessory 3    149.0\n",
       "   5 │ Software 1     299.0\n",
       "   6 │ Software 2     149.0"
      ]
     },
     "execution_count": 27,
     "metadata": {},
     "output_type": "execute_result"
    }
   ],
   "source": [
    "table_case_1 = DataFrame()\n",
    "for i ∈ eachindex(x₁)\n",
    "    \n",
    "    choice_value = x₁[i]\n",
    "    if (choice_value == 1)\n",
    "        \n",
    "        # row data -\n",
    "        row_data = (\n",
    "            option = label_dictionary[i],\n",
    "            price = c₁[i]\n",
    "        )\n",
    "        push!(table_case_1, row_data)\n",
    "    end\n",
    "end\n",
    "table_case_1"
   ]
  },
  {
   "cell_type": "code",
   "execution_count": null,
   "metadata": {},
   "outputs": [],
   "source": []
  },
  {
   "cell_type": "markdown",
   "metadata": {},
   "source": [
    "#### Case 2: Value the most affordable the most, and decrease the budget to `I = 8000 USD`\n"
   ]
  },
  {
   "cell_type": "code",
   "execution_count": 37,
   "metadata": {},
   "outputs": [],
   "source": [
    "configuration_array_case_2 = [\n",
    "\n",
    "    # 1 CPU options\n",
    "    0.95 2640.0    ; # 1 CPU 1\n",
    "    0.05 3649.0    ; # 2 CPU 2\n",
    "\n",
    "    # 2 Memory options\n",
    "    0.45 3840.0  ; # 3 Memory 1\n",
    "    0.1 4640.0  ; # 4 Memory 2\n",
    "    0.45 3600.0  ; # 5 Memory 3\n",
    "\n",
    "    # 3 Storage options -\n",
    "    0.7 1440.0   ; # 6 Storage 1\n",
    "    0.2 1840.0   ; # 7 Storage 2\n",
    "    0.05 2440.0   ; # 8 Storage 3\n",
    "    0.05 3640.0   ; # 9 Storage 4\n",
    "\n",
    "    # 4 Accessory options\n",
    "    0.8 79.0    ; # 10 Accessory 1\n",
    "    0.15 129.0   ; # 11 Accessory 2\n",
    "    0.05 149.0   ; # 12 Accessory 3\n",
    "    \n",
    "    # Software options\n",
    "    0.1 299.0     ; # 13 Software 1\n",
    "    0.9 149.0     ; # 14 Software 2\n",
    "];"
   ]
  },
  {
   "cell_type": "code",
   "execution_count": 44,
   "metadata": {},
   "outputs": [
    {
     "data": {
      "text/plain": [
       "Dict{String, Any} with 3 entries:\n",
       "  \"argmax\"          => [1.0, 0.0, 0.0, 0.0, 1.0, 1.0, 0.0, 0.0, 0.0, 1.0, 0.0, …\n",
       "  \"budget\"          => 7908.0\n",
       "  \"objective_value\" => 3.8"
      ]
     },
     "execution_count": 44,
     "metadata": {},
     "output_type": "execute_result"
    }
   ],
   "source": [
    "α₂ = configuration_array_case_2[:,1];\n",
    "c₂ = configuration_array_case_2[:,2];\n",
    "problem_case_2 = build(MySimpleBinaryVariableLinearChoiceProblem, (\n",
    "    \n",
    "    α = α₂,\n",
    "    c = c₂,\n",
    "    I = 8000,\n",
    "    initial = zeros(14),\n",
    "    bounds = bounds_array,\n",
    "\n",
    "    # extra constraints -\n",
    "    C = C\n",
    "));\n",
    "solution_case_2 = solve(problem_case_2)"
   ]
  },
  {
   "cell_type": "code",
   "execution_count": 45,
   "metadata": {},
   "outputs": [
    {
     "data": {
      "text/plain": [
       "14-element Vector{Float64}:\n",
       " 1.0\n",
       " 0.0\n",
       " 0.0\n",
       " 0.0\n",
       " 1.0\n",
       " 1.0\n",
       " 0.0\n",
       " 0.0\n",
       " 0.0\n",
       " 1.0\n",
       " 0.0\n",
       " 0.0\n",
       " 0.0\n",
       " 1.0"
      ]
     },
     "execution_count": 45,
     "metadata": {},
     "output_type": "execute_result"
    }
   ],
   "source": [
    "x₂ = solution_case_2[\"argmax\"]"
   ]
  },
  {
   "cell_type": "markdown",
   "metadata": {},
   "source": [
    "#### Visualize: Build a table with the selected options for `case 2`\n",
    "Let's build a table that holds the selected options for `case 2` and their prices using a `DataFrame` instance:"
   ]
  },
  {
   "cell_type": "code",
   "execution_count": 46,
   "metadata": {},
   "outputs": [
    {
     "data": {
      "text/html": [
       "<div><div style = \"float: left;\"><span>5×2 DataFrame</span></div><div style = \"clear: both;\"></div></div><div class = \"data-frame\" style = \"overflow-x: scroll;\"><table class = \"data-frame\" style = \"margin-bottom: 6px;\"><thead><tr class = \"header\"><th class = \"rowNumber\" style = \"font-weight: bold; text-align: right;\">Row</th><th style = \"text-align: left;\">option</th><th style = \"text-align: left;\">price</th></tr><tr class = \"subheader headerLastRow\"><th class = \"rowNumber\" style = \"font-weight: bold; text-align: right;\"></th><th title = \"String\" style = \"text-align: left;\">String</th><th title = \"Float64\" style = \"text-align: left;\">Float64</th></tr></thead><tbody><tr><td class = \"rowNumber\" style = \"font-weight: bold; text-align: right;\">1</td><td style = \"text-align: left;\">CPU 1</td><td style = \"text-align: right;\">2640.0</td></tr><tr><td class = \"rowNumber\" style = \"font-weight: bold; text-align: right;\">2</td><td style = \"text-align: left;\">Memory 3</td><td style = \"text-align: right;\">3600.0</td></tr><tr><td class = \"rowNumber\" style = \"font-weight: bold; text-align: right;\">3</td><td style = \"text-align: left;\">Storage 1</td><td style = \"text-align: right;\">1440.0</td></tr><tr><td class = \"rowNumber\" style = \"font-weight: bold; text-align: right;\">4</td><td style = \"text-align: left;\">Accessory 1</td><td style = \"text-align: right;\">79.0</td></tr><tr><td class = \"rowNumber\" style = \"font-weight: bold; text-align: right;\">5</td><td style = \"text-align: left;\">Software 2</td><td style = \"text-align: right;\">149.0</td></tr></tbody></table></div>"
      ],
      "text/latex": [
       "\\begin{tabular}{r|cc}\n",
       "\t& option & price\\\\\n",
       "\t\\hline\n",
       "\t& String & Float64\\\\\n",
       "\t\\hline\n",
       "\t1 & CPU 1 & 2640.0 \\\\\n",
       "\t2 & Memory 3 & 3600.0 \\\\\n",
       "\t3 & Storage 1 & 1440.0 \\\\\n",
       "\t4 & Accessory 1 & 79.0 \\\\\n",
       "\t5 & Software 2 & 149.0 \\\\\n",
       "\\end{tabular}\n"
      ],
      "text/plain": [
       "\u001b[1m5×2 DataFrame\u001b[0m\n",
       "\u001b[1m Row \u001b[0m│\u001b[1m option      \u001b[0m\u001b[1m price   \u001b[0m\n",
       "     │\u001b[90m String      \u001b[0m\u001b[90m Float64 \u001b[0m\n",
       "─────┼──────────────────────\n",
       "   1 │ CPU 1         2640.0\n",
       "   2 │ Memory 3      3600.0\n",
       "   3 │ Storage 1     1440.0\n",
       "   4 │ Accessory 1     79.0\n",
       "   5 │ Software 2     149.0"
      ]
     },
     "execution_count": 46,
     "metadata": {},
     "output_type": "execute_result"
    }
   ],
   "source": [
    "table_case_2 = DataFrame()\n",
    "for i ∈ eachindex(x₂)\n",
    "    \n",
    "    choice_value = x₂[i]\n",
    "    if (choice_value == 1)\n",
    "        \n",
    "        # row data -\n",
    "        row_data = (\n",
    "            option = label_dictionary[i],\n",
    "            price = c₂[i]\n",
    "        )\n",
    "        push!(table_case_2, row_data)\n",
    "    end\n",
    "end\n",
    "table_case_2"
   ]
  },
  {
   "cell_type": "markdown",
   "metadata": {},
   "source": [
    "#### Observations\n",
    "In Case 1, the solver is prioritzing the options with the highest performance, which are more expensive. The corresponding table shows that most options that were chosen were the more expensive options, i.e. the choices for Memory and CPU are the most expensive choices. However, for some other catagories, like storage, the MOST expensive Storage 4 was not selected, but Storage 3 was selected instead. This is because we are constrained by a budget of 10,000 so we can't go over that.\n",
    "In Case 2, we have a reduced budget of 8000 and gave more preferences to the cheapest option. As expected, in many catagories, such as CPU, Storage, and Accessory, the cheapest options were selected. Additionally, only software 2 was selected, probably because we ran out of money so we can't afford to buy both softwares.\n",
    "Interestingly, if I further decreased the budget, for example to 100, the solver choose the only product that met the budget, which is accessory 1. Thus, if the budget is too low, we won't even be able to buy the computer."
   ]
  },
  {
   "cell_type": "code",
   "execution_count": null,
   "metadata": {},
   "outputs": [],
   "source": []
  }
 ],
 "metadata": {
  "kernelspec": {
   "display_name": "Julia 1.9.2",
   "language": "julia",
   "name": "julia-1.9"
  },
  "language_info": {
   "file_extension": ".jl",
   "mimetype": "application/julia",
   "name": "julia",
   "version": "1.9.2"
  }
 },
 "nbformat": 4,
 "nbformat_minor": 5
}
